{
  "nbformat": 4,
  "nbformat_minor": 0,
  "metadata": {
    "colab": {
      "provenance": []
    },
    "kernelspec": {
      "name": "python3",
      "display_name": "Python 3"
    },
    "language_info": {
      "name": "python"
    }
  },
  "cells": [
    {
      "cell_type": "code",
      "execution_count": 1,
      "metadata": {
        "id": "qHQx2DkComB4"
      },
      "outputs": [],
      "source": [
        "import pandas as pd"
      ]
    },
    {
      "cell_type": "code",
      "source": [
        "pd.__version__"
      ],
      "metadata": {
        "id": "kHZ0NI6lrBME"
      },
      "execution_count": null,
      "outputs": []
    },
    {
      "cell_type": "code",
      "source": [
        "#previsores\n",
        "X = pd.read_csv('/content/entradas_breast.csv')"
      ],
      "metadata": {
        "id": "v0-GmbikrlBz"
      },
      "execution_count": 4,
      "outputs": []
    },
    {
      "cell_type": "code",
      "source": [
        "#classe\n",
        "y = pd.read_csv('/content/saidas_breast.csv')"
      ],
      "metadata": {
        "id": "JNUEcojVr3zE"
      },
      "execution_count": 8,
      "outputs": []
    },
    {
      "cell_type": "code",
      "source": [
        "import sklearn\n",
        "from sklearn.model_selection import train_test_split"
      ],
      "metadata": {
        "id": "tBWSPVPZsFZi"
      },
      "execution_count": 6,
      "outputs": []
    },
    {
      "cell_type": "code",
      "source": [
        "sklearn.__version__"
      ],
      "metadata": {
        "id": "CFg3tnH0sRZm"
      },
      "execution_count": null,
      "outputs": []
    },
    {
      "cell_type": "code",
      "source": [
        "X_treinamento, X_teste, y_treinamento, y_teste = train_test_split(X,y, test_size = 0.25)"
      ],
      "metadata": {
        "id": "MWEJhfhlsWAI"
      },
      "execution_count": 9,
      "outputs": []
    },
    {
      "cell_type": "code",
      "source": [
        "X_treinamento.shape, y_treinamento.shape\n"
      ],
      "metadata": {
        "id": "ygK5Lj-lsuDd"
      },
      "execution_count": null,
      "outputs": []
    },
    {
      "cell_type": "code",
      "source": [
        "X_teste.shape, y_teste.shape"
      ],
      "metadata": {
        "id": "wA93SAPOs3tT"
      },
      "execution_count": null,
      "outputs": []
    },
    {
      "cell_type": "code",
      "source": [
        "import tensorflow as tf\n",
        "from tensorflow.keras.models import Sequential"
      ],
      "metadata": {
        "id": "Suj8IpDWtKnU"
      },
      "execution_count": 17,
      "outputs": []
    },
    {
      "cell_type": "code",
      "source": [
        "tf.__version__"
      ],
      "metadata": {
        "id": "_1VJcndftXaE"
      },
      "execution_count": null,
      "outputs": []
    },
    {
      "cell_type": "code",
      "source": [
        "rede_neural = Sequential([\n",
        "    tf.keras.layers.InputLayer(shape = (30,)),\n",
        "    tf.keras.layers.Dense(units = 16, activation = 'relu', kernel_initializer = 'random_uniform'),\n",
        "    tf.keras.layers.Dense(units = 16, activation = 'relu', kernel_initializer = 'random_uniform'),\n",
        "    tf.keras.layers.Dense(units = 1, activation = 'sigmoid')\n",
        "])"
      ],
      "metadata": {
        "id": "tkNbG2vxtbI1"
      },
      "execution_count": 79,
      "outputs": []
    },
    {
      "cell_type": "code",
      "source": [
        "rede_neural.summary()"
      ],
      "metadata": {
        "id": "wXsHOO4cuvju"
      },
      "execution_count": null,
      "outputs": []
    },
    {
      "cell_type": "code",
      "source": [
        "otimizador = tf.keras.optimizers.Adam(learning_rate = 0.001, clipvalue= 0.5)"
      ],
      "metadata": {
        "id": "BmOIHe_I0ajF"
      },
      "execution_count": 81,
      "outputs": []
    },
    {
      "cell_type": "code",
      "source": [
        "rede_neural.compile(optimizer = otimizador, loss = 'binary_crossentropy', metrics = ['binary_accuracy'])"
      ],
      "metadata": {
        "id": "n9Wb58n5vjYy"
      },
      "execution_count": 82,
      "outputs": []
    },
    {
      "cell_type": "code",
      "source": [
        "rede_neural.fit(X_treinamento, y_treinamento, batch_size = 10, epochs = 100)"
      ],
      "metadata": {
        "id": "FdsEDzcMwo4k"
      },
      "execution_count": null,
      "outputs": []
    },
    {
      "cell_type": "code",
      "source": [
        "pesos_0 = rede_neural.layers[0].get_weights()\n",
        "pesos_0"
      ],
      "metadata": {
        "id": "jmO66ki62hxQ"
      },
      "execution_count": null,
      "outputs": []
    },
    {
      "cell_type": "code",
      "source": [
        "len(pesos_0)"
      ],
      "metadata": {
        "id": "J2nMkwFn2z9m"
      },
      "execution_count": null,
      "outputs": []
    },
    {
      "cell_type": "code",
      "source": [
        "previsoes = rede_neural.predict(X_teste)"
      ],
      "metadata": {
        "id": "rca3euXLxlKz"
      },
      "execution_count": null,
      "outputs": []
    },
    {
      "cell_type": "code",
      "source": [
        "previsoes = previsoes > 0.5"
      ],
      "metadata": {
        "id": "C6Em9-ovxvwM"
      },
      "execution_count": 92,
      "outputs": []
    },
    {
      "cell_type": "code",
      "source": [
        "previsoes"
      ],
      "metadata": {
        "id": "iyQeJi9KyK2Y"
      },
      "execution_count": null,
      "outputs": []
    },
    {
      "cell_type": "code",
      "source": [
        "from sklearn.metrics import accuracy_score, confusion_matrix"
      ],
      "metadata": {
        "id": "vLPRsuXLylcT"
      },
      "execution_count": 94,
      "outputs": []
    },
    {
      "cell_type": "code",
      "source": [
        "accuracy_score(y_teste, previsoes)"
      ],
      "metadata": {
        "id": "JBa51ccEy5Q5"
      },
      "execution_count": null,
      "outputs": []
    },
    {
      "cell_type": "code",
      "source": [
        "confusion_matrix(y_teste, previsoes)"
      ],
      "metadata": {
        "id": "qQ0hfyZ5zC24"
      },
      "execution_count": null,
      "outputs": []
    },
    {
      "cell_type": "code",
      "source": [
        "rede_neural.evaluate(X_teste, y_teste)"
      ],
      "metadata": {
        "id": "V48gpOs41Qin"
      },
      "execution_count": null,
      "outputs": []
    }
  ]
}